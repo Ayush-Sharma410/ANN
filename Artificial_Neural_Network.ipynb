{
  "nbformat": 4,
  "nbformat_minor": 0,
  "metadata": {
    "colab": {
      "provenance": [],
      "include_colab_link": true
    },
    "kernelspec": {
      "name": "python3",
      "display_name": "Python 3"
    }
  },
  "cells": [
    {
      "cell_type": "markdown",
      "metadata": {
        "id": "view-in-github",
        "colab_type": "text"
      },
      "source": [
        "<a href=\"https://colab.research.google.com/github/Ayush-Sharma410/ANN/blob/main/Artificial_Neural_Network.ipynb\" target=\"_parent\"><img src=\"https://colab.research.google.com/assets/colab-badge.svg\" alt=\"Open In Colab\"/></a>"
      ]
    },
    {
      "cell_type": "markdown",
      "metadata": {
        "id": "3cbb7fRy-eyr"
      },
      "source": [
        "# Artificial Neural Network"
      ]
    },
    {
      "cell_type": "markdown",
      "metadata": {
        "id": "8sNDnxE2-pwE"
      },
      "source": [
        "### Importing the libraries"
      ]
    },
    {
      "cell_type": "code",
      "source": [
        "import pandas as pd\n",
        "import numpy as np\n",
        "import tensorflow as tf"
      ],
      "metadata": {
        "id": "9aHFWaDms22I"
      },
      "execution_count": 1,
      "outputs": []
    },
    {
      "cell_type": "code",
      "source": [
        "tf.__version__"
      ],
      "metadata": {
        "colab": {
          "base_uri": "https://localhost:8080/",
          "height": 36
        },
        "id": "JjoeBE71uEme",
        "outputId": "8bd7beed-e718-4cf6-ea57-c5d1b85e52c1"
      },
      "execution_count": 3,
      "outputs": [
        {
          "output_type": "execute_result",
          "data": {
            "text/plain": [
              "'2.12.0'"
            ],
            "application/vnd.google.colaboratory.intrinsic+json": {
              "type": "string"
            }
          },
          "metadata": {},
          "execution_count": 3
        }
      ]
    },
    {
      "cell_type": "markdown",
      "metadata": {
        "id": "AG3FQEch-yuA"
      },
      "source": [
        "## Part 1 - Data Preprocessing"
      ]
    },
    {
      "cell_type": "markdown",
      "metadata": {
        "id": "-4zq8Mza_D9O"
      },
      "source": [
        "### Importing the dataset"
      ]
    },
    {
      "cell_type": "code",
      "source": [
        "dataset=pd.read_excel(\"/content/Folds5x2_pp.xlsx\")\n",
        "X=dataset.iloc[:,:-1].values\n",
        "y=dataset.iloc[:,-1].values"
      ],
      "metadata": {
        "id": "dEsNg_bzs-lP"
      },
      "execution_count": 4,
      "outputs": []
    },
    {
      "cell_type": "code",
      "source": [
        "X.shape"
      ],
      "metadata": {
        "colab": {
          "base_uri": "https://localhost:8080/"
        },
        "id": "vjVHUjbTvHXy",
        "outputId": "48b23152-ebaf-4f7b-a7b2-dab4b8939691"
      },
      "execution_count": 29,
      "outputs": [
        {
          "output_type": "execute_result",
          "data": {
            "text/plain": [
              "(9568, 4)"
            ]
          },
          "metadata": {},
          "execution_count": 29
        }
      ]
    },
    {
      "cell_type": "code",
      "source": [
        "y.shape"
      ],
      "metadata": {
        "colab": {
          "base_uri": "https://localhost:8080/"
        },
        "id": "gKSmSR-FvI4u",
        "outputId": "69d54500-9cbe-4f6d-930a-38d425e39c32"
      },
      "execution_count": 7,
      "outputs": [
        {
          "output_type": "execute_result",
          "data": {
            "text/plain": [
              "(9568,)"
            ]
          },
          "metadata": {},
          "execution_count": 7
        }
      ]
    },
    {
      "cell_type": "markdown",
      "metadata": {
        "id": "VC6omXel_Up0"
      },
      "source": [
        "### Splitting the dataset into the Training set and Test set"
      ]
    },
    {
      "cell_type": "code",
      "source": [
        "from sklearn.model_selection import train_test_split\n",
        "X_train,X_test,y_train,y_test=train_test_split(X,y,test_size=0.2,random_state=0)"
      ],
      "metadata": {
        "id": "OEjBn-m5vXTP"
      },
      "execution_count": 30,
      "outputs": []
    },
    {
      "cell_type": "code",
      "source": [
        "(X_train).shape"
      ],
      "metadata": {
        "colab": {
          "base_uri": "https://localhost:8080/"
        },
        "id": "WOkdpiqXwGju",
        "outputId": "87401e50-1889-40b8-9835-8c993f5dc82c"
      },
      "execution_count": 31,
      "outputs": [
        {
          "output_type": "execute_result",
          "data": {
            "text/plain": [
              "(7654, 4)"
            ]
          },
          "metadata": {},
          "execution_count": 31
        }
      ]
    },
    {
      "cell_type": "code",
      "source": [
        "y_train.shape"
      ],
      "metadata": {
        "colab": {
          "base_uri": "https://localhost:8080/"
        },
        "id": "6NJ7Bl2Oy54T",
        "outputId": "11c02578-2115-4cd1-e047-676d909bff6b"
      },
      "execution_count": 32,
      "outputs": [
        {
          "output_type": "execute_result",
          "data": {
            "text/plain": [
              "(7654,)"
            ]
          },
          "metadata": {},
          "execution_count": 32
        }
      ]
    },
    {
      "cell_type": "markdown",
      "metadata": {
        "id": "_mSLlAT9_eyI"
      },
      "source": [
        "## Part 2 - Building the ANN"
      ]
    },
    {
      "cell_type": "markdown",
      "metadata": {
        "id": "CsBULd_f_wLY"
      },
      "source": [
        "### Initializing the ANN"
      ]
    },
    {
      "cell_type": "code",
      "source": [
        "ann=tf.keras.Sequential()"
      ],
      "metadata": {
        "id": "YJjBtSfXwQha"
      },
      "execution_count": 42,
      "outputs": []
    },
    {
      "cell_type": "markdown",
      "metadata": {
        "id": "iitAFJS_ABUn"
      },
      "source": [
        "### Adding the input layer and the first hidden layer"
      ]
    },
    {
      "cell_type": "code",
      "source": [
        "ann.add(tf.keras.layers.Dense(6,activation= 'relu'))"
      ],
      "metadata": {
        "id": "PG6p8hTjwYph"
      },
      "execution_count": 43,
      "outputs": []
    },
    {
      "cell_type": "markdown",
      "metadata": {
        "id": "-lb4kK_wAKbs"
      },
      "source": [
        "### Adding the second hidden layer"
      ]
    },
    {
      "cell_type": "code",
      "source": [
        "ann.add(tf.keras.layers.Dense(6,activation='relu'))"
      ],
      "metadata": {
        "id": "JMbM3nCFxD-T"
      },
      "execution_count": 44,
      "outputs": []
    },
    {
      "cell_type": "markdown",
      "metadata": {
        "id": "jwMOmKb3AdBY"
      },
      "source": [
        "### Adding the output layer"
      ]
    },
    {
      "cell_type": "code",
      "source": [
        "ann.add(tf.keras.layers.Dense(1))"
      ],
      "metadata": {
        "id": "bP3u_KFxxSRO"
      },
      "execution_count": 45,
      "outputs": []
    },
    {
      "cell_type": "markdown",
      "metadata": {
        "id": "fq7e4fF6A1yy"
      },
      "source": [
        "## Part 3 - Training the ANN"
      ]
    },
    {
      "cell_type": "markdown",
      "metadata": {
        "id": "qDeylAs2An25"
      },
      "source": [
        "### Compiling the ANN"
      ]
    },
    {
      "cell_type": "code",
      "source": [
        "ann.compile(optimizer='adam',loss='mean_squared_error',metrics=['accuracy'])"
      ],
      "metadata": {
        "id": "EPNfvxpkyGWV"
      },
      "execution_count": 47,
      "outputs": []
    },
    {
      "cell_type": "markdown",
      "metadata": {
        "id": "YjVuiybYOo7r"
      },
      "source": [
        "### Training the ANN model on the Training set"
      ]
    },
    {
      "cell_type": "code",
      "source": [
        "ann.fit(X_train,y_train,batch_size=32, epochs = 100)"
      ],
      "metadata": {
        "colab": {
          "base_uri": "https://localhost:8080/"
        },
        "id": "KGExLjx4yiPO",
        "outputId": "156ac02f-34f0-4e20-c48f-6a234129f525"
      },
      "execution_count": 48,
      "outputs": [
        {
          "output_type": "stream",
          "name": "stdout",
          "text": [
            "Epoch 1/100\n",
            "240/240 [==============================] - 1s 1ms/step - loss: 204500.3125 - accuracy: 0.0000e+00\n",
            "Epoch 2/100\n",
            "240/240 [==============================] - 0s 1ms/step - loss: 1989.4624 - accuracy: 0.0000e+00\n",
            "Epoch 3/100\n",
            "240/240 [==============================] - 0s 1ms/step - loss: 462.4554 - accuracy: 0.0000e+00\n",
            "Epoch 4/100\n",
            "240/240 [==============================] - 0s 1ms/step - loss: 442.0935 - accuracy: 0.0000e+00\n",
            "Epoch 5/100\n",
            "240/240 [==============================] - 0s 1ms/step - loss: 419.1423 - accuracy: 0.0000e+00\n",
            "Epoch 6/100\n",
            "240/240 [==============================] - 0s 1ms/step - loss: 393.6971 - accuracy: 0.0000e+00\n",
            "Epoch 7/100\n",
            "240/240 [==============================] - 0s 1ms/step - loss: 366.6108 - accuracy: 0.0000e+00\n",
            "Epoch 8/100\n",
            "240/240 [==============================] - 0s 1ms/step - loss: 337.6696 - accuracy: 0.0000e+00\n",
            "Epoch 9/100\n",
            "240/240 [==============================] - 0s 1ms/step - loss: 308.8566 - accuracy: 0.0000e+00\n",
            "Epoch 10/100\n",
            "240/240 [==============================] - 0s 1ms/step - loss: 279.7208 - accuracy: 0.0000e+00\n",
            "Epoch 11/100\n",
            "240/240 [==============================] - 0s 1ms/step - loss: 250.9211 - accuracy: 0.0000e+00\n",
            "Epoch 12/100\n",
            "240/240 [==============================] - 0s 1ms/step - loss: 223.1939 - accuracy: 0.0000e+00\n",
            "Epoch 13/100\n",
            "240/240 [==============================] - 0s 1ms/step - loss: 195.9343 - accuracy: 0.0000e+00\n",
            "Epoch 14/100\n",
            "240/240 [==============================] - 0s 981us/step - loss: 170.8462 - accuracy: 0.0000e+00\n",
            "Epoch 15/100\n",
            "240/240 [==============================] - 0s 1ms/step - loss: 147.2852 - accuracy: 0.0000e+00\n",
            "Epoch 16/100\n",
            "240/240 [==============================] - 0s 1ms/step - loss: 125.9125 - accuracy: 0.0000e+00\n",
            "Epoch 17/100\n",
            "240/240 [==============================] - 0s 1ms/step - loss: 106.7663 - accuracy: 0.0000e+00\n",
            "Epoch 18/100\n",
            "240/240 [==============================] - 0s 999us/step - loss: 90.1416 - accuracy: 0.0000e+00\n",
            "Epoch 19/100\n",
            "240/240 [==============================] - 0s 1ms/step - loss: 75.9308 - accuracy: 0.0000e+00\n",
            "Epoch 20/100\n",
            "240/240 [==============================] - 0s 1ms/step - loss: 64.3630 - accuracy: 0.0000e+00\n",
            "Epoch 21/100\n",
            "240/240 [==============================] - 0s 1ms/step - loss: 55.0644 - accuracy: 0.0000e+00\n",
            "Epoch 22/100\n",
            "240/240 [==============================] - 0s 1ms/step - loss: 48.0779 - accuracy: 0.0000e+00\n",
            "Epoch 23/100\n",
            "240/240 [==============================] - 0s 1ms/step - loss: 42.4782 - accuracy: 0.0000e+00\n",
            "Epoch 24/100\n",
            "240/240 [==============================] - 0s 1ms/step - loss: 38.4600 - accuracy: 0.0000e+00\n",
            "Epoch 25/100\n",
            "240/240 [==============================] - 0s 1ms/step - loss: 35.5530 - accuracy: 0.0000e+00\n",
            "Epoch 26/100\n",
            "240/240 [==============================] - 0s 1ms/step - loss: 33.8763 - accuracy: 0.0000e+00\n",
            "Epoch 27/100\n",
            "240/240 [==============================] - 0s 1ms/step - loss: 31.9123 - accuracy: 0.0000e+00\n",
            "Epoch 28/100\n",
            "240/240 [==============================] - 0s 1ms/step - loss: 30.7936 - accuracy: 0.0000e+00\n",
            "Epoch 29/100\n",
            "240/240 [==============================] - 0s 1ms/step - loss: 29.8400 - accuracy: 0.0000e+00\n",
            "Epoch 30/100\n",
            "240/240 [==============================] - 0s 1ms/step - loss: 29.2351 - accuracy: 0.0000e+00\n",
            "Epoch 31/100\n",
            "240/240 [==============================] - 0s 1ms/step - loss: 28.5387 - accuracy: 0.0000e+00\n",
            "Epoch 32/100\n",
            "240/240 [==============================] - 0s 1ms/step - loss: 28.0046 - accuracy: 0.0000e+00\n",
            "Epoch 33/100\n",
            "240/240 [==============================] - 0s 1ms/step - loss: 28.5908 - accuracy: 0.0000e+00\n",
            "Epoch 34/100\n",
            "240/240 [==============================] - 0s 1ms/step - loss: 27.8064 - accuracy: 0.0000e+00\n",
            "Epoch 35/100\n",
            "240/240 [==============================] - 0s 1ms/step - loss: 27.6539 - accuracy: 0.0000e+00\n",
            "Epoch 36/100\n",
            "240/240 [==============================] - 0s 1ms/step - loss: 27.6529 - accuracy: 0.0000e+00\n",
            "Epoch 37/100\n",
            "240/240 [==============================] - 0s 1ms/step - loss: 27.8068 - accuracy: 0.0000e+00\n",
            "Epoch 38/100\n",
            "240/240 [==============================] - 0s 1ms/step - loss: 27.3975 - accuracy: 0.0000e+00\n",
            "Epoch 39/100\n",
            "240/240 [==============================] - 0s 1ms/step - loss: 27.4960 - accuracy: 0.0000e+00\n",
            "Epoch 40/100\n",
            "240/240 [==============================] - 0s 1ms/step - loss: 27.1926 - accuracy: 0.0000e+00\n",
            "Epoch 41/100\n",
            "240/240 [==============================] - 0s 1ms/step - loss: 27.1503 - accuracy: 0.0000e+00\n",
            "Epoch 42/100\n",
            "240/240 [==============================] - 0s 1ms/step - loss: 27.2321 - accuracy: 0.0000e+00\n",
            "Epoch 43/100\n",
            "240/240 [==============================] - 0s 1ms/step - loss: 27.4884 - accuracy: 0.0000e+00\n",
            "Epoch 44/100\n",
            "240/240 [==============================] - 0s 1ms/step - loss: 26.9275 - accuracy: 0.0000e+00\n",
            "Epoch 45/100\n",
            "240/240 [==============================] - 0s 1ms/step - loss: 26.8632 - accuracy: 0.0000e+00\n",
            "Epoch 46/100\n",
            "240/240 [==============================] - 0s 1ms/step - loss: 27.1060 - accuracy: 0.0000e+00\n",
            "Epoch 47/100\n",
            "240/240 [==============================] - 0s 1ms/step - loss: 27.4502 - accuracy: 0.0000e+00\n",
            "Epoch 48/100\n",
            "240/240 [==============================] - 0s 1ms/step - loss: 27.1831 - accuracy: 0.0000e+00\n",
            "Epoch 49/100\n",
            "240/240 [==============================] - 0s 1ms/step - loss: 26.9901 - accuracy: 0.0000e+00\n",
            "Epoch 50/100\n",
            "240/240 [==============================] - 0s 1ms/step - loss: 28.4468 - accuracy: 0.0000e+00\n",
            "Epoch 51/100\n",
            "240/240 [==============================] - 0s 1ms/step - loss: 27.4836 - accuracy: 0.0000e+00\n",
            "Epoch 52/100\n",
            "240/240 [==============================] - 0s 1ms/step - loss: 27.5190 - accuracy: 0.0000e+00\n",
            "Epoch 53/100\n",
            "240/240 [==============================] - 0s 1ms/step - loss: 26.8618 - accuracy: 0.0000e+00\n",
            "Epoch 54/100\n",
            "240/240 [==============================] - 0s 1ms/step - loss: 26.7849 - accuracy: 0.0000e+00\n",
            "Epoch 55/100\n",
            "240/240 [==============================] - 0s 1ms/step - loss: 27.1820 - accuracy: 0.0000e+00\n",
            "Epoch 56/100\n",
            "240/240 [==============================] - 0s 1ms/step - loss: 27.3628 - accuracy: 0.0000e+00\n",
            "Epoch 57/100\n",
            "240/240 [==============================] - 0s 1ms/step - loss: 26.7916 - accuracy: 0.0000e+00\n",
            "Epoch 58/100\n",
            "240/240 [==============================] - 0s 1ms/step - loss: 26.9271 - accuracy: 0.0000e+00\n",
            "Epoch 59/100\n",
            "240/240 [==============================] - 0s 1ms/step - loss: 26.8122 - accuracy: 0.0000e+00\n",
            "Epoch 60/100\n",
            "240/240 [==============================] - 0s 1ms/step - loss: 27.0593 - accuracy: 0.0000e+00\n",
            "Epoch 61/100\n",
            "240/240 [==============================] - 0s 1ms/step - loss: 26.8756 - accuracy: 0.0000e+00\n",
            "Epoch 62/100\n",
            "240/240 [==============================] - 0s 1ms/step - loss: 26.2258 - accuracy: 0.0000e+00\n",
            "Epoch 63/100\n",
            "240/240 [==============================] - 0s 1ms/step - loss: 27.3895 - accuracy: 0.0000e+00\n",
            "Epoch 64/100\n",
            "240/240 [==============================] - 0s 2ms/step - loss: 26.3866 - accuracy: 0.0000e+00\n",
            "Epoch 65/100\n",
            "240/240 [==============================] - 0s 1ms/step - loss: 26.5997 - accuracy: 0.0000e+00\n",
            "Epoch 66/100\n",
            "240/240 [==============================] - 1s 3ms/step - loss: 26.4786 - accuracy: 0.0000e+00\n",
            "Epoch 67/100\n",
            "240/240 [==============================] - 0s 1ms/step - loss: 26.7643 - accuracy: 0.0000e+00\n",
            "Epoch 68/100\n",
            "240/240 [==============================] - 1s 3ms/step - loss: 26.4275 - accuracy: 0.0000e+00\n",
            "Epoch 69/100\n",
            "240/240 [==============================] - 0s 1ms/step - loss: 26.7863 - accuracy: 0.0000e+00\n",
            "Epoch 70/100\n",
            "240/240 [==============================] - 0s 1ms/step - loss: 27.4511 - accuracy: 0.0000e+00\n",
            "Epoch 71/100\n",
            "240/240 [==============================] - 0s 1ms/step - loss: 26.9110 - accuracy: 0.0000e+00\n",
            "Epoch 72/100\n",
            "240/240 [==============================] - 0s 1ms/step - loss: 26.5874 - accuracy: 0.0000e+00\n",
            "Epoch 73/100\n",
            "240/240 [==============================] - 0s 1ms/step - loss: 27.0359 - accuracy: 0.0000e+00\n",
            "Epoch 74/100\n",
            "240/240 [==============================] - 0s 1ms/step - loss: 27.0738 - accuracy: 0.0000e+00\n",
            "Epoch 75/100\n",
            "240/240 [==============================] - 0s 1ms/step - loss: 27.0312 - accuracy: 0.0000e+00\n",
            "Epoch 76/100\n",
            "240/240 [==============================] - 0s 1ms/step - loss: 27.1852 - accuracy: 0.0000e+00\n",
            "Epoch 77/100\n",
            "240/240 [==============================] - 0s 1ms/step - loss: 27.2578 - accuracy: 0.0000e+00\n",
            "Epoch 78/100\n",
            "240/240 [==============================] - 0s 1ms/step - loss: 26.7873 - accuracy: 0.0000e+00\n",
            "Epoch 79/100\n",
            "240/240 [==============================] - 0s 1ms/step - loss: 26.8675 - accuracy: 0.0000e+00\n",
            "Epoch 80/100\n",
            "240/240 [==============================] - 0s 1ms/step - loss: 26.9666 - accuracy: 0.0000e+00\n",
            "Epoch 81/100\n",
            "240/240 [==============================] - 0s 1ms/step - loss: 26.8996 - accuracy: 0.0000e+00\n",
            "Epoch 82/100\n",
            "240/240 [==============================] - 0s 1ms/step - loss: 26.3711 - accuracy: 0.0000e+00\n",
            "Epoch 83/100\n",
            "240/240 [==============================] - 0s 1ms/step - loss: 26.9564 - accuracy: 0.0000e+00\n",
            "Epoch 84/100\n",
            "240/240 [==============================] - 0s 1ms/step - loss: 26.9552 - accuracy: 0.0000e+00\n",
            "Epoch 85/100\n",
            "240/240 [==============================] - 0s 1ms/step - loss: 27.0230 - accuracy: 0.0000e+00\n",
            "Epoch 86/100\n",
            "240/240 [==============================] - 0s 1ms/step - loss: 26.7927 - accuracy: 0.0000e+00\n",
            "Epoch 87/100\n",
            "240/240 [==============================] - 0s 1ms/step - loss: 26.5810 - accuracy: 0.0000e+00\n",
            "Epoch 88/100\n",
            "240/240 [==============================] - 0s 1ms/step - loss: 27.1801 - accuracy: 0.0000e+00\n",
            "Epoch 89/100\n",
            "240/240 [==============================] - 0s 1ms/step - loss: 26.9514 - accuracy: 0.0000e+00\n",
            "Epoch 90/100\n",
            "240/240 [==============================] - 0s 1ms/step - loss: 26.6987 - accuracy: 0.0000e+00\n",
            "Epoch 91/100\n",
            "240/240 [==============================] - 0s 1ms/step - loss: 26.5988 - accuracy: 0.0000e+00\n",
            "Epoch 92/100\n",
            "240/240 [==============================] - 0s 1ms/step - loss: 27.2263 - accuracy: 0.0000e+00\n",
            "Epoch 93/100\n",
            "240/240 [==============================] - 0s 1ms/step - loss: 26.4402 - accuracy: 0.0000e+00\n",
            "Epoch 94/100\n",
            "240/240 [==============================] - 0s 1ms/step - loss: 26.8532 - accuracy: 0.0000e+00\n",
            "Epoch 95/100\n",
            "240/240 [==============================] - 0s 1ms/step - loss: 27.3719 - accuracy: 0.0000e+00\n",
            "Epoch 96/100\n",
            "240/240 [==============================] - 0s 1ms/step - loss: 26.6391 - accuracy: 0.0000e+00\n",
            "Epoch 97/100\n",
            "240/240 [==============================] - 0s 1ms/step - loss: 26.6632 - accuracy: 0.0000e+00\n",
            "Epoch 98/100\n",
            "240/240 [==============================] - 0s 1ms/step - loss: 26.9683 - accuracy: 0.0000e+00\n",
            "Epoch 99/100\n",
            "240/240 [==============================] - 0s 1ms/step - loss: 26.6105 - accuracy: 0.0000e+00\n",
            "Epoch 100/100\n",
            "240/240 [==============================] - 0s 1ms/step - loss: 26.5647 - accuracy: 0.0000e+00\n"
          ]
        },
        {
          "output_type": "execute_result",
          "data": {
            "text/plain": [
              "<keras.callbacks.History at 0x7cf3c85aa6b0>"
            ]
          },
          "metadata": {},
          "execution_count": 48
        }
      ]
    },
    {
      "cell_type": "markdown",
      "metadata": {
        "id": "0H0zKKNEBLD5"
      },
      "source": [
        "### Predicting the results of the Test set"
      ]
    },
    {
      "cell_type": "code",
      "source": [
        "y_pred = ann.predict(X_test)\n",
        "np.set_printoptions(precision=2)\n",
        "print(np.concatenate((y_pred.reshape(len(y_pred),1), y_test.reshape(len(y_test),1)),1))"
      ],
      "metadata": {
        "colab": {
          "base_uri": "https://localhost:8080/"
        },
        "id": "4t1l6sIL2n-q",
        "outputId": "80f13410-e992-4186-dbf9-c17a8dd9c6aa"
      },
      "execution_count": 49,
      "outputs": [
        {
          "output_type": "stream",
          "name": "stdout",
          "text": [
            "60/60 [==============================] - 0s 776us/step\n",
            "[[432.21 431.23]\n",
            " [463.25 460.01]\n",
            " [466.72 461.14]\n",
            " ...\n",
            " [473.99 473.26]\n",
            " [440.76 438.  ]\n",
            " [459.98 463.28]]\n"
          ]
        }
      ]
    }
  ]
}